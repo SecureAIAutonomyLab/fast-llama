{
 "cells": [
  {
   "cell_type": "code",
   "execution_count": null,
   "metadata": {},
   "outputs": [],
   "source": [
    "import openai\n",
    "from rich import print\n",
    "\n",
    "openai.api_key = \"EMPTY\"\n",
    "\n",
    "openai.api_base = \"http://127.0.0.1:8080/v1\"\n",
    "\n",
    "def chat_prompt(user_input: str) -> str:\n",
    "    return (\n",
    "        'You\\'re an AI assistant, respond politely and honestly to the USER.\\n'\n",
    "        f'USER: {user_input}\\n'\n",
    "        'AI: '\n",
    "    )\n",
    "\n",
    "\n",
    "user_input = input('Hello, how are you?')\n",
    "\n",
    "\n",
    "completion = openai.Completion.create(\n",
    "    model=\"../../Llama-2-13b-chat-hf\",\n",
    "    prompt=chat_prompt(user_input),\n",
    "    max_tokens=256,\n",
    ")\n",
    "\n",
    "print(completion['choices'][0]['text'])\n",
    "\n"
   ]
  }
 ],
 "metadata": {
  "kernelspec": {
   "display_name": "Python 3",
   "language": "python",
   "name": "python3"
  },
  "language_info": {
   "codemirror_mode": {
    "name": "ipython",
    "version": 3
   },
   "file_extension": ".py",
   "mimetype": "text/x-python",
   "name": "python",
   "nbconvert_exporter": "python",
   "pygments_lexer": "ipython3",
   "version": "3.8.17"
  },
  "orig_nbformat": 4
 },
 "nbformat": 4,
 "nbformat_minor": 2
}
