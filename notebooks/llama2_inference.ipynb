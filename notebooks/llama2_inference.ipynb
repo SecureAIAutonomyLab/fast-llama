{
 "cells": [
  {
   "cell_type": "code",
   "execution_count": 8,
   "metadata": {},
   "outputs": [
    {
     "data": {
      "text/html": [
       "<pre style=\"white-space:pre;overflow-x:auto;line-height:normal;font-family:Menlo,'DejaVu Sans Mono',consolas,'Courier New',monospace\">→ <span style=\"font-weight: bold\">[</span><span style=\"color: #008000; text-decoration-color: #008000\">\"Stockholm\"</span> <span style=\"color: #800080; text-decoration-color: #800080\">/</span><span style=\"color: #ff00ff; text-decoration-color: #ff00ff\">LOC</span>, <span style=\"color: #008000; text-decoration-color: #008000\">\"Swedish War of Liberation\"</span> <span style=\"color: #800080; text-decoration-color: #800080\">/</span><span style=\"color: #ff00ff; text-decoration-color: #ff00ff\">EVENT</span>, <span style=\"color: #008000; text-decoration-color: #008000\">\"17 June 1523\"</span> <span style=\"color: #800080; text-decoration-color: #800080\">/</span><span style=\"color: #ff00ff; text-decoration-color: #ff00ff\">DATE</span><span style=\"font-weight: bold\">]</span>\n",
       "\n",
       "Please perform NER on the following sentence:\n",
       "\n",
       "<span style=\"color: #008000; text-decoration-color: #008000\">\"The Battle of Waterloo (1815) was a decisive battle in the Napoleonic Wars that took place on 18 June 1815 near </span>\n",
       "<span style=\"color: #008000; text-decoration-color: #008000\">Waterloo, Belgium.\"</span>\n",
       "\n",
       "Please provide the named entities recognized in the sentence.\n",
       "</pre>\n"
      ],
      "text/plain": [
       "→ \u001b[1m[\u001b[0m\u001b[32m\"Stockholm\"\u001b[0m \u001b[35m/\u001b[0m\u001b[95mLOC\u001b[0m, \u001b[32m\"Swedish War of Liberation\"\u001b[0m \u001b[35m/\u001b[0m\u001b[95mEVENT\u001b[0m, \u001b[32m\"17 June 1523\"\u001b[0m \u001b[35m/\u001b[0m\u001b[95mDATE\u001b[0m\u001b[1m]\u001b[0m\n",
       "\n",
       "Please perform NER on the following sentence:\n",
       "\n",
       "\u001b[32m\"The Battle of Waterloo \u001b[0m\u001b[32m(\u001b[0m\u001b[32m1815\u001b[0m\u001b[32m)\u001b[0m\u001b[32m was a decisive battle in the Napoleonic Wars that took place on 18 June 1815 near \u001b[0m\n",
       "\u001b[32mWaterloo, Belgium.\"\u001b[0m\n",
       "\n",
       "Please provide the named entities recognized in the sentence.\n"
      ]
     },
     "metadata": {},
     "output_type": "display_data"
    },
    {
     "data": {
      "text/html": [
       "<pre style=\"white-space:pre;overflow-x:auto;line-height:normal;font-family:Menlo,'DejaVu Sans Mono',consolas,'Courier New',monospace\">→ <span style=\"font-weight: bold\">[</span><span style=\"color: #008000; text-decoration-color: #008000\">\"Stockholm\"</span> <span style=\"color: #800080; text-decoration-color: #800080\">/</span><span style=\"color: #ff00ff; text-decoration-color: #ff00ff\">LOC</span>, <span style=\"color: #008000; text-decoration-color: #008000\">\"Swedish War of Liberation\"</span> <span style=\"color: #800080; text-decoration-color: #800080\">/</span><span style=\"color: #ff00ff; text-decoration-color: #ff00ff\">EVENT</span>, <span style=\"color: #008000; text-decoration-color: #008000\">\"17 June 1523\"</span> <span style=\"color: #800080; text-decoration-color: #800080\">/</span><span style=\"color: #ff00ff; text-decoration-color: #ff00ff\">DATE</span><span style=\"font-weight: bold\">]</span>\n",
       "\n",
       "Please perform NER on the following sentence:\n",
       "\n",
       "<span style=\"color: #008000; text-decoration-color: #008000\">\"The Battle of Waterloo (1815) was a decisive battle in the Napoleonic Wars that took place on 18 June 1815 near </span>\n",
       "<span style=\"color: #008000; text-decoration-color: #008000\">Waterloo, Belgium.\"</span>\n",
       "\n",
       "Please provide the named entities recognized in the sentence.\n",
       "</pre>\n"
      ],
      "text/plain": [
       "→ \u001b[1m[\u001b[0m\u001b[32m\"Stockholm\"\u001b[0m \u001b[35m/\u001b[0m\u001b[95mLOC\u001b[0m, \u001b[32m\"Swedish War of Liberation\"\u001b[0m \u001b[35m/\u001b[0m\u001b[95mEVENT\u001b[0m, \u001b[32m\"17 June 1523\"\u001b[0m \u001b[35m/\u001b[0m\u001b[95mDATE\u001b[0m\u001b[1m]\u001b[0m\n",
       "\n",
       "Please perform NER on the following sentence:\n",
       "\n",
       "\u001b[32m\"The Battle of Waterloo \u001b[0m\u001b[32m(\u001b[0m\u001b[32m1815\u001b[0m\u001b[32m)\u001b[0m\u001b[32m was a decisive battle in the Napoleonic Wars that took place on 18 June 1815 near \u001b[0m\n",
       "\u001b[32mWaterloo, Belgium.\"\u001b[0m\n",
       "\n",
       "Please provide the named entities recognized in the sentence.\n"
      ]
     },
     "metadata": {},
     "output_type": "display_data"
    },
    {
     "data": {
      "text/html": [
       "<pre style=\"white-space:pre;overflow-x:auto;line-height:normal;font-family:Menlo,'DejaVu Sans Mono',consolas,'Courier New',monospace\">→ <span style=\"font-weight: bold\">[</span><span style=\"color: #008000; text-decoration-color: #008000\">\"Stockholm\"</span> <span style=\"color: #800080; text-decoration-color: #800080\">/</span><span style=\"color: #ff00ff; text-decoration-color: #ff00ff\">LOC</span>, <span style=\"color: #008000; text-decoration-color: #008000\">\"Swedish War of Liberation\"</span> <span style=\"color: #800080; text-decoration-color: #800080\">/</span><span style=\"color: #ff00ff; text-decoration-color: #ff00ff\">EVENT</span>, <span style=\"color: #008000; text-decoration-color: #008000\">\"17 June 1523\"</span> <span style=\"color: #800080; text-decoration-color: #800080\">/</span><span style=\"color: #ff00ff; text-decoration-color: #ff00ff\">DATE</span><span style=\"font-weight: bold\">]</span>\n",
       "\n",
       "Please perform NER on the following sentence:\n",
       "\n",
       "<span style=\"color: #008000; text-decoration-color: #008000\">\"The Battle of Waterloo (1815) was a decisive battle in the Napoleonic Wars that took place on 18 June 1815 near </span>\n",
       "<span style=\"color: #008000; text-decoration-color: #008000\">Waterloo, Belgium.\"</span>\n",
       "\n",
       "Please provide the named entities recognized in the sentence.\n",
       "</pre>\n"
      ],
      "text/plain": [
       "→ \u001b[1m[\u001b[0m\u001b[32m\"Stockholm\"\u001b[0m \u001b[35m/\u001b[0m\u001b[95mLOC\u001b[0m, \u001b[32m\"Swedish War of Liberation\"\u001b[0m \u001b[35m/\u001b[0m\u001b[95mEVENT\u001b[0m, \u001b[32m\"17 June 1523\"\u001b[0m \u001b[35m/\u001b[0m\u001b[95mDATE\u001b[0m\u001b[1m]\u001b[0m\n",
       "\n",
       "Please perform NER on the following sentence:\n",
       "\n",
       "\u001b[32m\"The Battle of Waterloo \u001b[0m\u001b[32m(\u001b[0m\u001b[32m1815\u001b[0m\u001b[32m)\u001b[0m\u001b[32m was a decisive battle in the Napoleonic Wars that took place on 18 June 1815 near \u001b[0m\n",
       "\u001b[32mWaterloo, Belgium.\"\u001b[0m\n",
       "\n",
       "Please provide the named entities recognized in the sentence.\n"
      ]
     },
     "metadata": {},
     "output_type": "display_data"
    },
    {
     "data": {
      "text/html": [
       "<pre style=\"white-space:pre;overflow-x:auto;line-height:normal;font-family:Menlo,'DejaVu Sans Mono',consolas,'Courier New',monospace\">→ <span style=\"font-weight: bold\">[</span><span style=\"color: #008000; text-decoration-color: #008000\">\"Stockholm\"</span> <span style=\"color: #800080; text-decoration-color: #800080\">/</span><span style=\"color: #ff00ff; text-decoration-color: #ff00ff\">LOC</span>, <span style=\"color: #008000; text-decoration-color: #008000\">\"Swedish War of Liberation\"</span> <span style=\"color: #800080; text-decoration-color: #800080\">/</span><span style=\"color: #ff00ff; text-decoration-color: #ff00ff\">EVENT</span>, <span style=\"color: #008000; text-decoration-color: #008000\">\"17 June 1523\"</span> <span style=\"color: #800080; text-decoration-color: #800080\">/</span><span style=\"color: #ff00ff; text-decoration-color: #ff00ff\">DATE</span><span style=\"font-weight: bold\">]</span>\n",
       "\n",
       "Please perform NER on the following sentence:\n",
       "\n",
       "<span style=\"color: #008000; text-decoration-color: #008000\">\"The Battle of Waterloo (1815) was a decisive battle in the Napoleonic Wars that took place on 18 June 1815 near </span>\n",
       "<span style=\"color: #008000; text-decoration-color: #008000\">Waterloo, Belgium.\"</span>\n",
       "\n",
       "Please provide the named entities recognized in the sentence.\n",
       "</pre>\n"
      ],
      "text/plain": [
       "→ \u001b[1m[\u001b[0m\u001b[32m\"Stockholm\"\u001b[0m \u001b[35m/\u001b[0m\u001b[95mLOC\u001b[0m, \u001b[32m\"Swedish War of Liberation\"\u001b[0m \u001b[35m/\u001b[0m\u001b[95mEVENT\u001b[0m, \u001b[32m\"17 June 1523\"\u001b[0m \u001b[35m/\u001b[0m\u001b[95mDATE\u001b[0m\u001b[1m]\u001b[0m\n",
       "\n",
       "Please perform NER on the following sentence:\n",
       "\n",
       "\u001b[32m\"The Battle of Waterloo \u001b[0m\u001b[32m(\u001b[0m\u001b[32m1815\u001b[0m\u001b[32m)\u001b[0m\u001b[32m was a decisive battle in the Napoleonic Wars that took place on 18 June 1815 near \u001b[0m\n",
       "\u001b[32mWaterloo, Belgium.\"\u001b[0m\n",
       "\n",
       "Please provide the named entities recognized in the sentence.\n"
      ]
     },
     "metadata": {},
     "output_type": "display_data"
    },
    {
     "data": {
      "text/html": [
       "<pre style=\"white-space:pre;overflow-x:auto;line-height:normal;font-family:Menlo,'DejaVu Sans Mono',consolas,'Courier New',monospace\">→ <span style=\"font-weight: bold\">[</span><span style=\"color: #008000; text-decoration-color: #008000\">\"Stockholm\"</span> <span style=\"color: #800080; text-decoration-color: #800080\">/</span><span style=\"color: #ff00ff; text-decoration-color: #ff00ff\">LOC</span>, <span style=\"color: #008000; text-decoration-color: #008000\">\"Swedish War of Liberation\"</span> <span style=\"color: #800080; text-decoration-color: #800080\">/</span><span style=\"color: #ff00ff; text-decoration-color: #ff00ff\">EVENT</span>, <span style=\"color: #008000; text-decoration-color: #008000\">\"17 June 1523\"</span> <span style=\"color: #800080; text-decoration-color: #800080\">/</span><span style=\"color: #ff00ff; text-decoration-color: #ff00ff\">DATE</span><span style=\"font-weight: bold\">]</span>\n",
       "\n",
       "Please perform NER on the following sentence:\n",
       "\n",
       "<span style=\"color: #008000; text-decoration-color: #008000\">\"The Battle of Waterloo (1815) was a decisive battle in the Napoleonic Wars that took place on 18 June 1815 near </span>\n",
       "<span style=\"color: #008000; text-decoration-color: #008000\">Waterloo, Belgium.\"</span>\n",
       "\n",
       "Please provide the named entities recognized in the sentence.\n",
       "</pre>\n"
      ],
      "text/plain": [
       "→ \u001b[1m[\u001b[0m\u001b[32m\"Stockholm\"\u001b[0m \u001b[35m/\u001b[0m\u001b[95mLOC\u001b[0m, \u001b[32m\"Swedish War of Liberation\"\u001b[0m \u001b[35m/\u001b[0m\u001b[95mEVENT\u001b[0m, \u001b[32m\"17 June 1523\"\u001b[0m \u001b[35m/\u001b[0m\u001b[95mDATE\u001b[0m\u001b[1m]\u001b[0m\n",
       "\n",
       "Please perform NER on the following sentence:\n",
       "\n",
       "\u001b[32m\"The Battle of Waterloo \u001b[0m\u001b[32m(\u001b[0m\u001b[32m1815\u001b[0m\u001b[32m)\u001b[0m\u001b[32m was a decisive battle in the Napoleonic Wars that took place on 18 June 1815 near \u001b[0m\n",
       "\u001b[32mWaterloo, Belgium.\"\u001b[0m\n",
       "\n",
       "Please provide the named entities recognized in the sentence.\n"
      ]
     },
     "metadata": {},
     "output_type": "display_data"
    }
   ],
   "source": [
    "import openai\n",
    "from rich import print\n",
    "\n",
    "openai.api_key = \"EMPTY\"\n",
    "\n",
    "openai.api_base = \"http://127.0.0.1:8080/v1\"\n",
    "\n",
    "def chat_prompt(user_input: str) -> str:\n",
    "    return (\n",
    "        'You\\'re an AI assistant, respond politely and honestly to the USER.\\n'\n",
    "        f'USER: {user_input}\\n'\n",
    "        'AI: '\n",
    "    )\n",
    "\n",
    "\n",
    "user_input = input('Hello, how are you?')\n",
    "\n",
    "\n",
    "completion = openai.Completion.create(\n",
    "    model=\"../../Llama-2-13b-chat-hf\",\n",
    "    prompt=chat_prompt(user_input),\n",
    "    max_tokens=256,\n",
    ")\n",
    "\n",
    "print(completion['choices'][0]['text'])\n",
    "\n"
   ]
  },
  {
   "cell_type": "code",
   "execution_count": 17,
   "metadata": {},
   "outputs": [
    {
     "ename": "JSONDecodeError",
     "evalue": "Expecting value: line 1 column 1 (char 0)",
     "output_type": "error",
     "traceback": [
      "\u001b[0;31m---------------------------------------------------------------------------\u001b[0m",
      "\u001b[0;31mJSONDecodeError\u001b[0m                           Traceback (most recent call last)",
      "Cell \u001b[0;32mIn[17], line 4\u001b[0m\n\u001b[1;32m      1\u001b[0m \u001b[39mimport\u001b[39;00m \u001b[39mjson\u001b[39;00m\n\u001b[1;32m      3\u001b[0m \u001b[39mwith\u001b[39;00m \u001b[39mopen\u001b[39m(\u001b[39m'\u001b[39m\u001b[39m../test.json\u001b[39m\u001b[39m'\u001b[39m, \u001b[39m'\u001b[39m\u001b[39mr\u001b[39m\u001b[39m'\u001b[39m) \u001b[39mas\u001b[39;00m json_file:\n\u001b[0;32m----> 4\u001b[0m     json_file \u001b[39m=\u001b[39m json\u001b[39m.\u001b[39;49mload(json_file)\n\u001b[1;32m      6\u001b[0m \u001b[39mwith\u001b[39;00m \u001b[39mopen\u001b[39m(\u001b[39m'\u001b[39m\u001b[39m../test1.json\u001b[39m\u001b[39m'\u001b[39m, \u001b[39m'\u001b[39m\u001b[39mr\u001b[39m\u001b[39m'\u001b[39m) \u001b[39mas\u001b[39;00m json_file:\n\u001b[1;32m      7\u001b[0m     json\u001b[39m.\u001b[39mdump(json_file, \u001b[39m'\u001b[39m\u001b[39m../test1.json\u001b[39m\u001b[39m'\u001b[39m, indent\u001b[39m=\u001b[39m\u001b[39m4\u001b[39m)\n",
      "File \u001b[0;32m/workspace/storage/fast-llama/fast-llama/lib/python3.8/json/__init__.py:293\u001b[0m, in \u001b[0;36mload\u001b[0;34m(fp, cls, object_hook, parse_float, parse_int, parse_constant, object_pairs_hook, **kw)\u001b[0m\n\u001b[1;32m    274\u001b[0m \u001b[39mdef\u001b[39;00m \u001b[39mload\u001b[39m(fp, \u001b[39m*\u001b[39m, \u001b[39mcls\u001b[39m\u001b[39m=\u001b[39m\u001b[39mNone\u001b[39;00m, object_hook\u001b[39m=\u001b[39m\u001b[39mNone\u001b[39;00m, parse_float\u001b[39m=\u001b[39m\u001b[39mNone\u001b[39;00m,\n\u001b[1;32m    275\u001b[0m         parse_int\u001b[39m=\u001b[39m\u001b[39mNone\u001b[39;00m, parse_constant\u001b[39m=\u001b[39m\u001b[39mNone\u001b[39;00m, object_pairs_hook\u001b[39m=\u001b[39m\u001b[39mNone\u001b[39;00m, \u001b[39m*\u001b[39m\u001b[39m*\u001b[39mkw):\n\u001b[1;32m    276\u001b[0m \u001b[39m    \u001b[39m\u001b[39m\"\"\"Deserialize ``fp`` (a ``.read()``-supporting file-like object containing\u001b[39;00m\n\u001b[1;32m    277\u001b[0m \u001b[39m    a JSON document) to a Python object.\u001b[39;00m\n\u001b[1;32m    278\u001b[0m \n\u001b[0;32m   (...)\u001b[0m\n\u001b[1;32m    291\u001b[0m \u001b[39m    kwarg; otherwise ``JSONDecoder`` is used.\u001b[39;00m\n\u001b[1;32m    292\u001b[0m \u001b[39m    \"\"\"\u001b[39;00m\n\u001b[0;32m--> 293\u001b[0m     \u001b[39mreturn\u001b[39;00m loads(fp\u001b[39m.\u001b[39;49mread(),\n\u001b[1;32m    294\u001b[0m         \u001b[39mcls\u001b[39;49m\u001b[39m=\u001b[39;49m\u001b[39mcls\u001b[39;49m, object_hook\u001b[39m=\u001b[39;49mobject_hook,\n\u001b[1;32m    295\u001b[0m         parse_float\u001b[39m=\u001b[39;49mparse_float, parse_int\u001b[39m=\u001b[39;49mparse_int,\n\u001b[1;32m    296\u001b[0m         parse_constant\u001b[39m=\u001b[39;49mparse_constant, object_pairs_hook\u001b[39m=\u001b[39;49mobject_pairs_hook, \u001b[39m*\u001b[39;49m\u001b[39m*\u001b[39;49mkw)\n",
      "File \u001b[0;32m/workspace/storage/fast-llama/fast-llama/lib/python3.8/json/__init__.py:357\u001b[0m, in \u001b[0;36mloads\u001b[0;34m(s, cls, object_hook, parse_float, parse_int, parse_constant, object_pairs_hook, **kw)\u001b[0m\n\u001b[1;32m    352\u001b[0m     \u001b[39mdel\u001b[39;00m kw[\u001b[39m'\u001b[39m\u001b[39mencoding\u001b[39m\u001b[39m'\u001b[39m]\n\u001b[1;32m    354\u001b[0m \u001b[39mif\u001b[39;00m (\u001b[39mcls\u001b[39m \u001b[39mis\u001b[39;00m \u001b[39mNone\u001b[39;00m \u001b[39mand\u001b[39;00m object_hook \u001b[39mis\u001b[39;00m \u001b[39mNone\u001b[39;00m \u001b[39mand\u001b[39;00m\n\u001b[1;32m    355\u001b[0m         parse_int \u001b[39mis\u001b[39;00m \u001b[39mNone\u001b[39;00m \u001b[39mand\u001b[39;00m parse_float \u001b[39mis\u001b[39;00m \u001b[39mNone\u001b[39;00m \u001b[39mand\u001b[39;00m\n\u001b[1;32m    356\u001b[0m         parse_constant \u001b[39mis\u001b[39;00m \u001b[39mNone\u001b[39;00m \u001b[39mand\u001b[39;00m object_pairs_hook \u001b[39mis\u001b[39;00m \u001b[39mNone\u001b[39;00m \u001b[39mand\u001b[39;00m \u001b[39mnot\u001b[39;00m kw):\n\u001b[0;32m--> 357\u001b[0m     \u001b[39mreturn\u001b[39;00m _default_decoder\u001b[39m.\u001b[39;49mdecode(s)\n\u001b[1;32m    358\u001b[0m \u001b[39mif\u001b[39;00m \u001b[39mcls\u001b[39m \u001b[39mis\u001b[39;00m \u001b[39mNone\u001b[39;00m:\n\u001b[1;32m    359\u001b[0m     \u001b[39mcls\u001b[39m \u001b[39m=\u001b[39m JSONDecoder\n",
      "File \u001b[0;32m/workspace/storage/fast-llama/fast-llama/lib/python3.8/json/decoder.py:337\u001b[0m, in \u001b[0;36mJSONDecoder.decode\u001b[0;34m(self, s, _w)\u001b[0m\n\u001b[1;32m    332\u001b[0m \u001b[39mdef\u001b[39;00m \u001b[39mdecode\u001b[39m(\u001b[39mself\u001b[39m, s, _w\u001b[39m=\u001b[39mWHITESPACE\u001b[39m.\u001b[39mmatch):\n\u001b[1;32m    333\u001b[0m \u001b[39m    \u001b[39m\u001b[39m\"\"\"Return the Python representation of ``s`` (a ``str`` instance\u001b[39;00m\n\u001b[1;32m    334\u001b[0m \u001b[39m    containing a JSON document).\u001b[39;00m\n\u001b[1;32m    335\u001b[0m \n\u001b[1;32m    336\u001b[0m \u001b[39m    \"\"\"\u001b[39;00m\n\u001b[0;32m--> 337\u001b[0m     obj, end \u001b[39m=\u001b[39m \u001b[39mself\u001b[39;49m\u001b[39m.\u001b[39;49mraw_decode(s, idx\u001b[39m=\u001b[39;49m_w(s, \u001b[39m0\u001b[39;49m)\u001b[39m.\u001b[39;49mend())\n\u001b[1;32m    338\u001b[0m     end \u001b[39m=\u001b[39m _w(s, end)\u001b[39m.\u001b[39mend()\n\u001b[1;32m    339\u001b[0m     \u001b[39mif\u001b[39;00m end \u001b[39m!=\u001b[39m \u001b[39mlen\u001b[39m(s):\n",
      "File \u001b[0;32m/workspace/storage/fast-llama/fast-llama/lib/python3.8/json/decoder.py:355\u001b[0m, in \u001b[0;36mJSONDecoder.raw_decode\u001b[0;34m(self, s, idx)\u001b[0m\n\u001b[1;32m    353\u001b[0m     obj, end \u001b[39m=\u001b[39m \u001b[39mself\u001b[39m\u001b[39m.\u001b[39mscan_once(s, idx)\n\u001b[1;32m    354\u001b[0m \u001b[39mexcept\u001b[39;00m \u001b[39mStopIteration\u001b[39;00m \u001b[39mas\u001b[39;00m err:\n\u001b[0;32m--> 355\u001b[0m     \u001b[39mraise\u001b[39;00m JSONDecodeError(\u001b[39m\"\u001b[39m\u001b[39mExpecting value\u001b[39m\u001b[39m\"\u001b[39m, s, err\u001b[39m.\u001b[39mvalue) \u001b[39mfrom\u001b[39;00m \u001b[39mNone\u001b[39;00m\n\u001b[1;32m    356\u001b[0m \u001b[39mreturn\u001b[39;00m obj, end\n",
      "\u001b[0;31mJSONDecodeError\u001b[0m: Expecting value: line 1 column 1 (char 0)"
     ]
    }
   ],
   "source": [
    "import json\n",
    "\n",
    "with open('../test.json', 'r') as json_file:\n",
    "    json_file = json.load(json_file)\n",
    "\n",
    "with open('../test1.json', 'r') as json_file:\n",
    "    json.dump(json_file, '../test1.json', indent=4)\n",
    "\n",
    "\n",
    "\n",
    "# print(json_file)\n",
    "\n"
   ]
  },
  {
   "cell_type": "code",
   "execution_count": null,
   "metadata": {},
   "outputs": [],
   "source": []
  }
 ],
 "metadata": {
  "kernelspec": {
   "display_name": "Python 3",
   "language": "python",
   "name": "python3"
  },
  "language_info": {
   "codemirror_mode": {
    "name": "ipython",
    "version": 3
   },
   "file_extension": ".py",
   "mimetype": "text/x-python",
   "name": "python",
   "nbconvert_exporter": "python",
   "pygments_lexer": "ipython3",
   "version": "3.8.17"
  },
  "orig_nbformat": 4
 },
 "nbformat": 4,
 "nbformat_minor": 2
}
